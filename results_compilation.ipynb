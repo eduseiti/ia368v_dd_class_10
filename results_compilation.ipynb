{
 "cells": [
  {
   "cell_type": "code",
   "execution_count": 28,
   "id": "d155f5ee",
   "metadata": {},
   "outputs": [],
   "source": [
    "import pandas as pd\n",
    "import numpy as np\n",
    "\n",
    "import pickle\n",
    "\n",
    "import matplotlib.pyplot as plt"
   ]
  },
  {
   "cell_type": "code",
   "execution_count": 6,
   "id": "f5ffe7af",
   "metadata": {},
   "outputs": [],
   "source": [
    "RESULT_FILES=[\n",
    "    'results/expanded_bm25_inpars_reranking_t4_15GB.pkl',\n",
    "    'results/expanded_bm25_only_inpars_reranking_t4_15GB.pkl',\n",
    "    'results/original_bm25_inpars_reranking_t4_15GB.pkl'\n",
    "]"
   ]
  },
  {
   "cell_type": "code",
   "execution_count": 9,
   "id": "4f44cc67",
   "metadata": {},
   "outputs": [],
   "source": [
    "with open(RESULT_FILES[0], 'rb') as input_file:\n",
    "    doc2query_all_dict = pickle.load(input_file)"
   ]
  },
  {
   "cell_type": "code",
   "execution_count": 11,
   "id": "b82c5732",
   "metadata": {},
   "outputs": [],
   "source": [
    "with open(RESULT_FILES[1], 'rb') as input_file:\n",
    "    doc2query_bm25_dict = pickle.load(input_file)"
   ]
  },
  {
   "cell_type": "code",
   "execution_count": 20,
   "id": "c43c543e",
   "metadata": {},
   "outputs": [],
   "source": [
    "with open(RESULT_FILES[2], 'rb') as input_file:\n",
    "    no_doc2query_dict = pickle.load(input_file)"
   ]
  },
  {
   "cell_type": "code",
   "execution_count": 21,
   "id": "70fae7c6",
   "metadata": {},
   "outputs": [],
   "source": [
    "results = []"
   ]
  },
  {
   "cell_type": "code",
   "execution_count": 22,
   "id": "45ce502c",
   "metadata": {},
   "outputs": [],
   "source": [
    "for name, df in no_doc2query_dict.items():\n",
    "    results.append({'expansion': 'no', \n",
    "                    'k': name.split('_')[1],\n",
    "                    'ndcg@10': df.loc['mean']['ndcg@10 pipeline'],\n",
    "                    'duration': df.loc['mean']['duration']})"
   ]
  },
  {
   "cell_type": "code",
   "execution_count": 24,
   "id": "0e4d45db",
   "metadata": {},
   "outputs": [],
   "source": [
    "for name, df in doc2query_bm25_dict.items():\n",
    "    results.append({'expansion': 'bm25', \n",
    "                    'k': name.split('_')[1],\n",
    "                    'ndcg@10': df.loc['mean']['ndcg@10 pipeline'],\n",
    "                    'duration': df.loc['mean']['duration']})"
   ]
  },
  {
   "cell_type": "code",
   "execution_count": 26,
   "id": "14e8ee4a",
   "metadata": {},
   "outputs": [],
   "source": [
    "for name, df in doc2query_all_dict.items():\n",
    "    results.append({'expansion': 'all', \n",
    "                    'k': name.split('_')[1],\n",
    "                    'ndcg@10': df.loc['mean']['ndcg@10 pipeline'],\n",
    "                    'duration': df.loc['mean']['duration']})"
   ]
  },
  {
   "cell_type": "code",
   "execution_count": 29,
   "id": "c9541f99",
   "metadata": {},
   "outputs": [],
   "source": [
    "r_df = pd.DataFrame(results)"
   ]
  },
  {
   "cell_type": "code",
   "execution_count": 30,
   "id": "d513399e",
   "metadata": {},
   "outputs": [
    {
     "data": {
      "text/html": [
       "<div>\n",
       "<style scoped>\n",
       "    .dataframe tbody tr th:only-of-type {\n",
       "        vertical-align: middle;\n",
       "    }\n",
       "\n",
       "    .dataframe tbody tr th {\n",
       "        vertical-align: top;\n",
       "    }\n",
       "\n",
       "    .dataframe thead th {\n",
       "        text-align: right;\n",
       "    }\n",
       "</style>\n",
       "<table border=\"1\" class=\"dataframe\">\n",
       "  <thead>\n",
       "    <tr style=\"text-align: right;\">\n",
       "      <th></th>\n",
       "      <th>expansion</th>\n",
       "      <th>k</th>\n",
       "      <th>ndcg@10</th>\n",
       "      <th>duration</th>\n",
       "    </tr>\n",
       "  </thead>\n",
       "  <tbody>\n",
       "    <tr>\n",
       "      <th>0</th>\n",
       "      <td>no</td>\n",
       "      <td>100</td>\n",
       "      <td>0.735460</td>\n",
       "      <td>0.830399</td>\n",
       "    </tr>\n",
       "    <tr>\n",
       "      <th>1</th>\n",
       "      <td>no</td>\n",
       "      <td>300</td>\n",
       "      <td>0.745794</td>\n",
       "      <td>2.486692</td>\n",
       "    </tr>\n",
       "    <tr>\n",
       "      <th>2</th>\n",
       "      <td>no</td>\n",
       "      <td>500</td>\n",
       "      <td>0.753604</td>\n",
       "      <td>4.075828</td>\n",
       "    </tr>\n",
       "    <tr>\n",
       "      <th>3</th>\n",
       "      <td>no</td>\n",
       "      <td>1000</td>\n",
       "      <td>0.751988</td>\n",
       "      <td>7.953818</td>\n",
       "    </tr>\n",
       "    <tr>\n",
       "      <th>4</th>\n",
       "      <td>bm25</td>\n",
       "      <td>100</td>\n",
       "      <td>0.751644</td>\n",
       "      <td>0.853906</td>\n",
       "    </tr>\n",
       "    <tr>\n",
       "      <th>5</th>\n",
       "      <td>bm25</td>\n",
       "      <td>300</td>\n",
       "      <td>0.759272</td>\n",
       "      <td>2.558376</td>\n",
       "    </tr>\n",
       "    <tr>\n",
       "      <th>6</th>\n",
       "      <td>bm25</td>\n",
       "      <td>500</td>\n",
       "      <td>0.756814</td>\n",
       "      <td>4.226670</td>\n",
       "    </tr>\n",
       "    <tr>\n",
       "      <th>7</th>\n",
       "      <td>bm25</td>\n",
       "      <td>1000</td>\n",
       "      <td>0.756096</td>\n",
       "      <td>8.365287</td>\n",
       "    </tr>\n",
       "    <tr>\n",
       "      <th>8</th>\n",
       "      <td>all</td>\n",
       "      <td>100</td>\n",
       "      <td>0.699766</td>\n",
       "      <td>0.392349</td>\n",
       "    </tr>\n",
       "    <tr>\n",
       "      <th>9</th>\n",
       "      <td>all</td>\n",
       "      <td>300</td>\n",
       "      <td>0.699584</td>\n",
       "      <td>1.032904</td>\n",
       "    </tr>\n",
       "    <tr>\n",
       "      <th>10</th>\n",
       "      <td>all</td>\n",
       "      <td>500</td>\n",
       "      <td>0.690208</td>\n",
       "      <td>1.676145</td>\n",
       "    </tr>\n",
       "    <tr>\n",
       "      <th>11</th>\n",
       "      <td>all</td>\n",
       "      <td>1000</td>\n",
       "      <td>0.690572</td>\n",
       "      <td>3.632852</td>\n",
       "    </tr>\n",
       "  </tbody>\n",
       "</table>\n",
       "</div>"
      ],
      "text/plain": [
       "   expansion     k   ndcg@10  duration\n",
       "0         no   100  0.735460  0.830399\n",
       "1         no   300  0.745794  2.486692\n",
       "2         no   500  0.753604  4.075828\n",
       "3         no  1000  0.751988  7.953818\n",
       "4       bm25   100  0.751644  0.853906\n",
       "5       bm25   300  0.759272  2.558376\n",
       "6       bm25   500  0.756814  4.226670\n",
       "7       bm25  1000  0.756096  8.365287\n",
       "8        all   100  0.699766  0.392349\n",
       "9        all   300  0.699584  1.032904\n",
       "10       all   500  0.690208  1.676145\n",
       "11       all  1000  0.690572  3.632852"
      ]
     },
     "execution_count": 30,
     "metadata": {},
     "output_type": "execute_result"
    }
   ],
   "source": [
    "r_df"
   ]
  },
  {
   "cell_type": "code",
   "execution_count": 35,
   "id": "a1c6e6ec",
   "metadata": {},
   "outputs": [
    {
     "data": {
      "text/plain": [
       "expansion     object\n",
       "k             object\n",
       "ndcg@10      float64\n",
       "duration     float64\n",
       "dtype: object"
      ]
     },
     "execution_count": 35,
     "metadata": {},
     "output_type": "execute_result"
    }
   ],
   "source": [
    "r_df.dtypes"
   ]
  },
  {
   "cell_type": "code",
   "execution_count": 67,
   "id": "a9cf9eed",
   "metadata": {},
   "outputs": [
    {
     "data": {
      "image/png": "[encoded data removed]",
      "text/plain": [
       "<Figure size 1080x720 with 1 Axes>"
      ]
     },
     "metadata": {
      "needs_background": "light"
     },
     "output_type": "display_data"
    }
   ],
   "source": [
    "fig = plt.figure(figsize=[15,10])\n",
    "\n",
    "types=['doc2query all', 'doc2query BM25 only', 'no doc2query']\n",
    "\n",
    "colors = ['blue', 'red', 'green']\n",
    "color_index = 0\n",
    "\n",
    "handles = []\n",
    "labels = []\n",
    "\n",
    "for name, df in r_df.groupby('expansion'):\n",
    "    \n",
    "    new_handle = plt.scatter(df['duration'], df['ndcg@10'], color=colors[color_index], marker=\"o\", s=df['k'].astype(int))\n",
    "\n",
    "    handles.append(new_handle)\n",
    "    labels.append(\"{}\".format(types[color_index]))\n",
    "\n",
    "    for x, y, name, in zip(df['duration'], df['ndcg@10'], df['ndcg@10']):\n",
    "        plt.annotate(\"{:.4f}\".format(name), (x, y), textcoords='offset points', xytext=(0, -30), ha='center')\n",
    "\n",
    "    \n",
    "    color_index += 1\n",
    "    \n",
    "plt.ylim(0.68, 0.78)    \n",
    "\n",
    "plt.legend(labels=labels, handles=handles, fontsize=15, bbox_to_anchor=(1.0, 0.16))\n",
    "\n",
    "plt.suptitle(\"Execution time (T4) x nDCG@10\", fontsize=25, y=0.95)\n",
    "\n",
    "plt.xlabel('Execution time (seconds)', fontsize=15)\n",
    "plt.ylabel('ndcg@10', fontsize=15)\n",
    "\n",
    "plt.show()"
   ]
  },
  {
   "cell_type": "code",
   "execution_count": null,
   "id": "bc660099",
   "metadata": {},
   "outputs": [],
   "source": []
  }
 ],
 "metadata": {
  "kernelspec": {
   "display_name": "Python 3",
   "language": "python",
   "name": "python3"
  },
  "language_info": {
   "codemirror_mode": {
    "name": "ipython",
    "version": 3
   },
   "file_extension": ".py",
   "mimetype": "text/x-python",
   "name": "python",
   "nbconvert_exporter": "python",
   "pygments_lexer": "ipython3",
   "version": "3.8.16"
  }
 },
 "nbformat": 4,
 "nbformat_minor": 5
}
